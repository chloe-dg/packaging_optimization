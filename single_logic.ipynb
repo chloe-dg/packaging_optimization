{
 "cells": [
  {
   "cell_type": "code",
   "execution_count": 19,
   "id": "01b491d7-256e-4a30-91ed-908037343b4b",
   "metadata": {},
   "outputs": [],
   "source": [
    "import pandas as pd\n",
    "from pathlib import Path\n",
    "import sys\n",
    "import numpy as np\n",
    "from tqdm import tqdm\n",
    "from re import search\n",
    "sys.path.extend([str(Path.home() / \"PycharmProjects/modeling\")])\n",
    "\n",
    "from analysis.wh.packaging.func import box, box_name, box_dict, find_optimal_box, convert_dim_quantity"
   ]
  },
  {
   "cell_type": "code",
   "execution_count": 20,
   "id": "54addc67-10b7-4e6d-8a94-2c4b32fd69a9",
   "metadata": {},
   "outputs": [
    {
     "data": {
      "text/plain": "           order_number                mt_sku_id  \\\n0  OBVNW000211104008888   4695157170_26869585151   \n1  OBVNW000211014008712  8180632018_101095863639   \n2  OBVNW000211213030062   4695157170_26869585151   \n3  OBVNN000211011020964  9180620496_111095575303   \n4  OBVNW000211102003210   4695157170_26869585151   \n\n                                            sku_name        main_cate  \\\n0  Sữa dưỡng thể giúp săn da, dưỡng trắng Nivea b...  Health & Beauty   \n1  [Mã FMCGMALL giảm 8% đơn từ 250K] Nước tẩy tra...  Health & Beauty   \n2  Sữa dưỡng thể giúp săn da, dưỡng trắng Nivea b...  Health & Beauty   \n3  [HB GIFT] Nước tẩy trang dưỡng trắng Senka All...  Health & Beauty   \n4  Sữa dưỡng thể giúp săn da, dưỡng trắng Nivea b...  Health & Beauty   \n\n           sub_cate  height_m_sku  length_m_sku  width_m_sku  \\\n0  Bath & Body care           5.0          12.0          7.0   \n1          Skincare          18.0           5.5          5.5   \n2  Bath & Body care           5.0          12.0          7.0   \n3          Skincare           3.0          12.0          5.0   \n4  Bath & Body care           5.0          12.0          7.0   \n\n   actual_quantity_ob packaging_id  \n0                   1           S3  \n1                   2           S3  \n2                   1           S3  \n3                   1           S3  \n4                   1           S3  ",
      "text/html": "<div>\n<style scoped>\n    .dataframe tbody tr th:only-of-type {\n        vertical-align: middle;\n    }\n\n    .dataframe tbody tr th {\n        vertical-align: top;\n    }\n\n    .dataframe thead th {\n        text-align: right;\n    }\n</style>\n<table border=\"1\" class=\"dataframe\">\n  <thead>\n    <tr style=\"text-align: right;\">\n      <th></th>\n      <th>order_number</th>\n      <th>mt_sku_id</th>\n      <th>sku_name</th>\n      <th>main_cate</th>\n      <th>sub_cate</th>\n      <th>height_m_sku</th>\n      <th>length_m_sku</th>\n      <th>width_m_sku</th>\n      <th>actual_quantity_ob</th>\n      <th>packaging_id</th>\n    </tr>\n  </thead>\n  <tbody>\n    <tr>\n      <th>0</th>\n      <td>OBVNW000211104008888</td>\n      <td>4695157170_26869585151</td>\n      <td>Sữa dưỡng thể giúp săn da, dưỡng trắng Nivea b...</td>\n      <td>Health &amp; Beauty</td>\n      <td>Bath &amp; Body care</td>\n      <td>5.0</td>\n      <td>12.0</td>\n      <td>7.0</td>\n      <td>1</td>\n      <td>S3</td>\n    </tr>\n    <tr>\n      <th>1</th>\n      <td>OBVNW000211014008712</td>\n      <td>8180632018_101095863639</td>\n      <td>[Mã FMCGMALL giảm 8% đơn từ 250K] Nước tẩy tra...</td>\n      <td>Health &amp; Beauty</td>\n      <td>Skincare</td>\n      <td>18.0</td>\n      <td>5.5</td>\n      <td>5.5</td>\n      <td>2</td>\n      <td>S3</td>\n    </tr>\n    <tr>\n      <th>2</th>\n      <td>OBVNW000211213030062</td>\n      <td>4695157170_26869585151</td>\n      <td>Sữa dưỡng thể giúp săn da, dưỡng trắng Nivea b...</td>\n      <td>Health &amp; Beauty</td>\n      <td>Bath &amp; Body care</td>\n      <td>5.0</td>\n      <td>12.0</td>\n      <td>7.0</td>\n      <td>1</td>\n      <td>S3</td>\n    </tr>\n    <tr>\n      <th>3</th>\n      <td>OBVNN000211011020964</td>\n      <td>9180620496_111095575303</td>\n      <td>[HB GIFT] Nước tẩy trang dưỡng trắng Senka All...</td>\n      <td>Health &amp; Beauty</td>\n      <td>Skincare</td>\n      <td>3.0</td>\n      <td>12.0</td>\n      <td>5.0</td>\n      <td>1</td>\n      <td>S3</td>\n    </tr>\n    <tr>\n      <th>4</th>\n      <td>OBVNW000211102003210</td>\n      <td>4695157170_26869585151</td>\n      <td>Sữa dưỡng thể giúp săn da, dưỡng trắng Nivea b...</td>\n      <td>Health &amp; Beauty</td>\n      <td>Bath &amp; Body care</td>\n      <td>5.0</td>\n      <td>12.0</td>\n      <td>7.0</td>\n      <td>1</td>\n      <td>S3</td>\n    </tr>\n  </tbody>\n</table>\n</div>"
     },
     "execution_count": 20,
     "metadata": {},
     "output_type": "execute_result"
    }
   ],
   "source": [
    "# data\n",
    "path = Path.home() / 'OneDrive - Seagroup/wh/packaging/package.csv'\n",
    "col = ['order_number', 'main_cate', 'sub_cate', 'mt_sku_id', 'sku_name', 'height_m_sku', 'length_m_sku',\n",
    "       'width_m_sku', 'actual_quantity_ob', 'packaging_id']\n",
    "package = pd.read_csv(path, low_memory=False, usecols=col)\n",
    "package.query(f'packaging_id == {[*box_dict.keys()]}', inplace=True)\n",
    "\n",
    "for i in ['width_m_sku', 'height_m_sku', 'length_m_sku']:\n",
    "    package.eval(f'{i} = {i} * 100', inplace=True)\n",
    "package['main_cate'].fillna('None', inplace=True)\n",
    "package.head()"
   ]
  },
  {
   "cell_type": "code",
   "execution_count": 21,
   "outputs": [
    {
     "name": "stderr",
     "output_type": "stream",
     "text": [
      "buffer: 100%|██████████| 65832/65832 [00:00<00:00, 221514.89it/s]\n"
     ]
    }
   ],
   "source": [
    "# buffer\n",
    "mask = package['sub_cate'] == \"Laundry\"\n",
    "\n",
    "buffer = {}\n",
    "for o, s in tqdm(package.loc[mask, ['order_number', 'sku_name']].values, desc='buffer'):\n",
    "    if search('túi', s.lower()):\n",
    "        buffer.update({o: s})\n",
    "\n",
    "for i in ['height_m_sku', 'length_m_sku', 'width_m_sku']:\n",
    "    package[i] = [dim * 0.42 if o in buffer else dim for dim, o in package[[i, 'order_number']].values]"
   ],
   "metadata": {
    "collapsed": false,
    "pycharm": {
     "name": "#%%\n"
    }
   }
  },
  {
   "cell_type": "code",
   "execution_count": 22,
   "id": "79d1e5a1-cf6e-4856-b9b7-84cf34197131",
   "metadata": {},
   "outputs": [
    {
     "name": "stdout",
     "output_type": "stream",
     "text": [
      "multi (823318, 10) 332241\n",
      "single (605654, 10) 605654\n"
     ]
    }
   ],
   "source": [
    "# multi order\n",
    "muilti_item = package.order_number.value_counts().to_frame().query('order_number > 1').index.tolist()\n",
    "df_multi = package.query(f'order_number == {muilti_item}').copy()\n",
    "df_multi.sort_values(by=['order_number'], inplace=True)\n",
    "\n",
    "# single\n",
    "df_single = package.query(f'order_number != {muilti_item} & actual_quantity_ob == 1').copy()\n",
    "df_single.sort_values(by=['order_number'], inplace=True)\n",
    "\n",
    "print('multi', df_multi.shape, len(df_multi.order_number.unique()))\n",
    "print('single', df_single.shape, len(df_single.order_number.unique()))"
   ]
  },
  {
   "cell_type": "code",
   "execution_count": 23,
   "id": "fddee167-72e7-4674-82a2-0e4d0e29c013",
   "metadata": {},
   "outputs": [
    {
     "name": "stderr",
     "output_type": "stream",
     "text": [
      "100%|██████████| 605654/605654 [00:01<00:00, 377989.17it/s]\n",
      "100%|██████████| 605654/605654 [00:01<00:00, 567963.54it/s]\n",
      "100%|██████████| 605654/605654 [00:07<00:00, 86091.33it/s]\n",
      "100%|██████████| 605654/605654 [02:00<00:00, 5037.46it/s]\n"
     ]
    }
   ],
   "source": [
    "# algorithm\n",
    "col = ['order_number', 'height_m_sku', 'length_m_sku', 'width_m_sku']\n",
    "order_single = {o: [h, l, w] for o, h, l, w in tqdm(df_single[col].values)}\n",
    "quant_single = {o: q for o, q in tqdm(df_single[['order_number', 'actual_quantity_ob']].values)}\n",
    "order_single_convert = {i: convert_dim_quantity(order_single[i], quant_single[i]) for i in tqdm(order_single)}\n",
    "order_single_box = {o: find_optimal_box(v, box_name, box, box_dict) for o, v in tqdm(order_single_convert.items())}"
   ]
  },
  {
   "cell_type": "code",
   "execution_count": 24,
   "id": "a4f1d0db-a2bd-4488-89de-a22966617c4b",
   "metadata": {},
   "outputs": [],
   "source": [
    "# final result\n",
    "final_single = pd.DataFrame.from_dict(order_single_box, orient='index', columns=['box_cost', 'box_vol']).reset_index().rename(columns={'index': 'order_number'})\n",
    "\n",
    "# dim\n",
    "final_single['order_dim'] = final_single['order_number'].map(order_single_convert)\n",
    "old_box = {i: v for i, v in package[['order_number', 'packaging_id']].values}\n",
    "final_single['box_base'] = final_single['order_number'].map(old_box)\n",
    "\n",
    "for i in ['cost', 'vol', 'base']:\n",
    "    final_single[f'price_box_{i}'] = final_single[f'box_{i}'].map(lambda x: box_dict[x][3] if x and x in box_dict else 0)\n",
    "    final_single[f'vol_box_{i}'] = final_single[f'box_{i}'].map(lambda x: box_dict[x][4] if x and x in box_dict else 0)\n",
    "final_single[f'box_base_dim'] = final_single[f'box_base'].map(lambda x: np.sort(box_dict[x][:3]).tolist() if x and x in box_dict else 0)\n",
    "\n",
    "# check if fit\n",
    "final_single['is_fit'] = [np.all(b >= o) for o, b in final_single[['order_dim', 'box_base_dim']].values]\n",
    "\n",
    "# num item\n",
    "final_single[f'num_item'] = 1\n",
    "\n",
    "# merge\n",
    "final_single = final_single.merge(df_single[['order_number', 'mt_sku_id', 'sku_name', 'main_cate', 'sub_cate']], on='order_number', how='left')"
   ]
  },
  {
   "cell_type": "code",
   "execution_count": 25,
   "outputs": [
    {
     "data": {
      "text/plain": "                0           1           2\ncount  697.000000  697.000000  697.000000\nmean    -9.577590    4.366011   -2.886083\nstd      5.040802    4.556723    7.269580\nmin    -16.900000  -12.000000  -20.000000\n25%    -12.900000    1.000000   -5.000000\n50%    -10.000000    3.000000   -3.000000\n75%     -4.540000    9.000000    2.000000\nmax      1.000000   11.000000   10.000000",
      "text/html": "<div>\n<style scoped>\n    .dataframe tbody tr th:only-of-type {\n        vertical-align: middle;\n    }\n\n    .dataframe tbody tr th {\n        vertical-align: top;\n    }\n\n    .dataframe thead th {\n        text-align: right;\n    }\n</style>\n<table border=\"1\" class=\"dataframe\">\n  <thead>\n    <tr style=\"text-align: right;\">\n      <th></th>\n      <th>0</th>\n      <th>1</th>\n      <th>2</th>\n    </tr>\n  </thead>\n  <tbody>\n    <tr>\n      <th>count</th>\n      <td>697.000000</td>\n      <td>697.000000</td>\n      <td>697.000000</td>\n    </tr>\n    <tr>\n      <th>mean</th>\n      <td>-9.577590</td>\n      <td>4.366011</td>\n      <td>-2.886083</td>\n    </tr>\n    <tr>\n      <th>std</th>\n      <td>5.040802</td>\n      <td>4.556723</td>\n      <td>7.269580</td>\n    </tr>\n    <tr>\n      <th>min</th>\n      <td>-16.900000</td>\n      <td>-12.000000</td>\n      <td>-20.000000</td>\n    </tr>\n    <tr>\n      <th>25%</th>\n      <td>-12.900000</td>\n      <td>1.000000</td>\n      <td>-5.000000</td>\n    </tr>\n    <tr>\n      <th>50%</th>\n      <td>-10.000000</td>\n      <td>3.000000</td>\n      <td>-3.000000</td>\n    </tr>\n    <tr>\n      <th>75%</th>\n      <td>-4.540000</td>\n      <td>9.000000</td>\n      <td>2.000000</td>\n    </tr>\n    <tr>\n      <th>max</th>\n      <td>1.000000</td>\n      <td>11.000000</td>\n      <td>10.000000</td>\n    </tr>\n  </tbody>\n</table>\n</div>"
     },
     "execution_count": 25,
     "metadata": {},
     "output_type": "execute_result"
    }
   ],
   "source": [
    "tmp = final_single.query('is_fit == False & sub_cate == \"Laundry\"').copy()\n",
    "lst = [o - b for o, b in tmp[['order_dim', 'box_base_dim']].values]\n",
    "dif = pd.DataFrame(lst)\n",
    "dif.describe()"
   ],
   "metadata": {
    "collapsed": false,
    "pycharm": {
     "name": "#%%\n"
    }
   }
  },
  {
   "cell_type": "code",
   "execution_count": 26,
   "id": "b202ee84-5d40-43f1-9ea6-f3f45040e761",
   "metadata": {},
   "outputs": [
    {
     "data": {
      "text/plain": "True     0.909285\nFalse    0.090715\nName: is_fit, dtype: float64"
     },
     "execution_count": 26,
     "metadata": {},
     "output_type": "execute_result"
    }
   ],
   "source": [
    "final_single.is_fit.value_counts(normalize=True)"
   ]
  },
  {
   "cell_type": "code",
   "execution_count": 27,
   "id": "beba1f20-a969-4a04-93ba-2e6ca743a1f5",
   "metadata": {},
   "outputs": [
    {
     "data": {
      "text/plain": "Skincare                                0.412826\nHair care                               0.144921\nBath & Body care                        0.058816\nKitchen & Dinning                       0.049153\nMilk 24 months and ups                  0.042505\n                                          ...   \nSupplement and Baby foods 0-6 months    0.000018\nGlasses                                 0.000018\nShoes Accessories                       0.000018\nBatteries, Charger & Cables             0.000018\nSport Clothes                           0.000018\nName: sub_cate, Length: 86, dtype: float64"
     },
     "execution_count": 27,
     "metadata": {},
     "output_type": "execute_result"
    }
   ],
   "source": [
    "final_single.query('is_fit == False').sub_cate.value_counts(normalize=True)"
   ]
  },
  {
   "cell_type": "code",
   "execution_count": 28,
   "id": "4125cd9c-decc-49ed-b254-6f569610f42d",
   "metadata": {},
   "outputs": [
    {
     "data": {
      "text/plain": "                order_number box_cost box_vol          order_dim box_base  \\\n605649  OBVNW000211228015311      SA2     SA2  [4.0, 16.0, 20.0]       S3   \n\n        price_box_cost  vol_box_cost  price_box_vol  vol_box_vol  \\\n605649           0.059          2550          0.059         2550   \n\n        price_box_base  vol_box_base  box_base_dim  is_fit  num_item  \\\n605649          0.0687          3750  [10, 15, 25]   False         1   \n\n                      mt_sku_id  \\\n605649  10719911127_83610356338   \n\n                                                 sku_name        main_cate  \\\n605649  Bộ đôi gội xả Phục hồi ngăn rụng tóc Premium R...  Health & Beauty   \n\n         sub_cate  \n605649  Hair care  ",
      "text/html": "<div>\n<style scoped>\n    .dataframe tbody tr th:only-of-type {\n        vertical-align: middle;\n    }\n\n    .dataframe tbody tr th {\n        vertical-align: top;\n    }\n\n    .dataframe thead th {\n        text-align: right;\n    }\n</style>\n<table border=\"1\" class=\"dataframe\">\n  <thead>\n    <tr style=\"text-align: right;\">\n      <th></th>\n      <th>order_number</th>\n      <th>box_cost</th>\n      <th>box_vol</th>\n      <th>order_dim</th>\n      <th>box_base</th>\n      <th>price_box_cost</th>\n      <th>vol_box_cost</th>\n      <th>price_box_vol</th>\n      <th>vol_box_vol</th>\n      <th>price_box_base</th>\n      <th>vol_box_base</th>\n      <th>box_base_dim</th>\n      <th>is_fit</th>\n      <th>num_item</th>\n      <th>mt_sku_id</th>\n      <th>sku_name</th>\n      <th>main_cate</th>\n      <th>sub_cate</th>\n    </tr>\n  </thead>\n  <tbody>\n    <tr>\n      <th>605649</th>\n      <td>OBVNW000211228015311</td>\n      <td>SA2</td>\n      <td>SA2</td>\n      <td>[4.0, 16.0, 20.0]</td>\n      <td>S3</td>\n      <td>0.059</td>\n      <td>2550</td>\n      <td>0.059</td>\n      <td>2550</td>\n      <td>0.0687</td>\n      <td>3750</td>\n      <td>[10, 15, 25]</td>\n      <td>False</td>\n      <td>1</td>\n      <td>10719911127_83610356338</td>\n      <td>Bộ đôi gội xả Phục hồi ngăn rụng tóc Premium R...</td>\n      <td>Health &amp; Beauty</td>\n      <td>Hair care</td>\n    </tr>\n  </tbody>\n</table>\n</div>"
     },
     "execution_count": 28,
     "metadata": {},
     "output_type": "execute_result"
    }
   ],
   "source": [
    "final_single.query('order_number == \"OBVNW000211228015311\"')"
   ]
  },
  {
   "cell_type": "code",
   "execution_count": 29,
   "id": "fb567188-ca97-4c88-8db4-50633363fb4a",
   "metadata": {},
   "outputs": [],
   "source": [
    "csv = final_single.query('is_fit == False').copy()\n",
    "for i, v in enumerate(['dim_min', 'dim_med', 'dim_max']):\n",
    "    csv[v] = csv['order_dim'].str[i]\n",
    "\n",
    "for i, v in enumerate(['box_dim_min', 'box_dim_med', 'box_dim_max']):\n",
    "    csv[v] = csv['box_base_dim'].str[i]\n",
    "csv.drop(columns=['order_dim', 'box_base_dim'], inplace=True)"
   ]
  },
  {
   "cell_type": "code",
   "execution_count": 30,
   "outputs": [],
   "source": [
    "csv.to_csv(path.parent / 'not_fit_single.csv', index=False, encoding='utf-8-sig')"
   ],
   "metadata": {
    "collapsed": false,
    "pycharm": {
     "name": "#%%\n"
    }
   }
  },
  {
   "cell_type": "code",
   "execution_count": 31,
   "outputs": [
    {
     "data": {
      "text/plain": "                order_number box_cost box_vol box_base  price_box_cost  \\\n36      OBVNN000210925001710      SA2     SA2       S3          0.0590   \n63      OBVNN000210925001999   5L, 1L      S4       S7          0.1327   \n66      OBVNN000210925002009      SA2     SA2       S2          0.0590   \n69      OBVNN000210925002032      SA2     SA2       S2          0.0590   \n94      OBVNN000210925002306   5L, 1L      S4       S7          0.1327   \n...                      ...      ...     ...      ...             ...   \n605618  OBVNW000211228014106      SA2     SA2       S3          0.0590   \n605624  OBVNW000211228014238      SA2     SA2       S3          0.0590   \n605625  OBVNW000211228014287      SA2     SA2       S3          0.0590   \n605649  OBVNW000211228015311      SA2     SA2       S3          0.0590   \n605651  OBVNW000211228015320      SA2     SA2       S3          0.0590   \n\n        vol_box_cost  price_box_vol  vol_box_vol  price_box_base  \\\n36              2550         0.0590         2550          0.0687   \n63             21587         0.1892        15000          0.1263   \n66              2550         0.0590         2550          0.0378   \n69              2550         0.0590         2550          0.0378   \n94             21587         0.1892        15000          0.1263   \n...              ...            ...          ...             ...   \n605618          2550         0.0590         2550          0.0687   \n605624          2550         0.0590         2550          0.0687   \n605625          2550         0.0590         2550          0.0687   \n605649          2550         0.0590         2550          0.0687   \n605651          2550         0.0590         2550          0.0687   \n\n        vol_box_base  ...                 mt_sku_id  \\\n36              3750  ...    8680620533_66535143642   \n63              7800  ...  10819911178_111095400409   \n66              1600  ...    6695144305_36535142611   \n69              1600  ...   11719914034_56535100981   \n94              7800  ...  10819911178_111095400409   \n...              ...  ...                       ...   \n605618          3750  ...   10719911127_83610356338   \n605624          3750  ...   10719911127_83610356338   \n605625          3750  ...   10719911127_83610356338   \n605649          3750  ...   10719911127_83610356338   \n605651          3750  ...   10719911127_83610356338   \n\n                                                 sku_name        main_cate  \\\n36                 [HB Gift] Ví da cầm tay cao cấp Senka:      Men Clothes   \n63      [COMBO TIẾT KIỆM] Bộ sản phẩm chăm sóc ngăn rụ...  Health & Beauty   \n66      [Mua 1 tặng 1] Tinh chất chống nắng Senka Perf...  Health & Beauty   \n69      Combo 3 Bàn chải đánh răng P/S Detox Trắng Răn...  Health & Beauty   \n94      [COMBO TIẾT KIỆM] Bộ sản phẩm chăm sóc ngăn rụ...  Health & Beauty   \n...                                                   ...              ...   \n605618  Bộ đôi gội xả Phục hồi ngăn rụng tóc Premium R...  Health & Beauty   \n605624  Bộ đôi gội xả Phục hồi ngăn rụng tóc Premium R...  Health & Beauty   \n605625  Bộ đôi gội xả Phục hồi ngăn rụng tóc Premium R...  Health & Beauty   \n605649  Bộ đôi gội xả Phục hồi ngăn rụng tóc Premium R...  Health & Beauty   \n605651  Bộ đôi gội xả Phục hồi ngăn rụng tóc Premium R...  Health & Beauty   \n\n         sub_cate dim_min dim_med  dim_max  box_dim_min  box_dim_med  \\\n36           Bags     0.3    16.0     24.0           10           15   \n63      Hair care    10.0    19.5     28.0           15           20   \n66       Skincare     3.0    15.0     20.0            8           10   \n69      Oral care     4.0     7.0     21.0            8           10   \n94      Hair care    10.0    19.5     28.0           15           20   \n...           ...     ...     ...      ...          ...          ...   \n605618  Hair care     4.0    16.0     20.0           10           15   \n605624  Hair care     4.0    16.0     20.0           10           15   \n605625  Hair care     4.0    16.0     20.0           10           15   \n605649  Hair care     4.0    16.0     20.0           10           15   \n605651  Hair care     4.0    16.0     20.0           10           15   \n\n        box_dim_max  \n36               25  \n63               26  \n66               20  \n69               20  \n94               26  \n...             ...  \n605618           25  \n605624           25  \n605625           25  \n605649           25  \n605651           25  \n\n[54942 rows x 22 columns]",
      "text/html": "<div>\n<style scoped>\n    .dataframe tbody tr th:only-of-type {\n        vertical-align: middle;\n    }\n\n    .dataframe tbody tr th {\n        vertical-align: top;\n    }\n\n    .dataframe thead th {\n        text-align: right;\n    }\n</style>\n<table border=\"1\" class=\"dataframe\">\n  <thead>\n    <tr style=\"text-align: right;\">\n      <th></th>\n      <th>order_number</th>\n      <th>box_cost</th>\n      <th>box_vol</th>\n      <th>box_base</th>\n      <th>price_box_cost</th>\n      <th>vol_box_cost</th>\n      <th>price_box_vol</th>\n      <th>vol_box_vol</th>\n      <th>price_box_base</th>\n      <th>vol_box_base</th>\n      <th>...</th>\n      <th>mt_sku_id</th>\n      <th>sku_name</th>\n      <th>main_cate</th>\n      <th>sub_cate</th>\n      <th>dim_min</th>\n      <th>dim_med</th>\n      <th>dim_max</th>\n      <th>box_dim_min</th>\n      <th>box_dim_med</th>\n      <th>box_dim_max</th>\n    </tr>\n  </thead>\n  <tbody>\n    <tr>\n      <th>36</th>\n      <td>OBVNN000210925001710</td>\n      <td>SA2</td>\n      <td>SA2</td>\n      <td>S3</td>\n      <td>0.0590</td>\n      <td>2550</td>\n      <td>0.0590</td>\n      <td>2550</td>\n      <td>0.0687</td>\n      <td>3750</td>\n      <td>...</td>\n      <td>8680620533_66535143642</td>\n      <td>[HB Gift] Ví da cầm tay cao cấp Senka:</td>\n      <td>Men Clothes</td>\n      <td>Bags</td>\n      <td>0.3</td>\n      <td>16.0</td>\n      <td>24.0</td>\n      <td>10</td>\n      <td>15</td>\n      <td>25</td>\n    </tr>\n    <tr>\n      <th>63</th>\n      <td>OBVNN000210925001999</td>\n      <td>5L, 1L</td>\n      <td>S4</td>\n      <td>S7</td>\n      <td>0.1327</td>\n      <td>21587</td>\n      <td>0.1892</td>\n      <td>15000</td>\n      <td>0.1263</td>\n      <td>7800</td>\n      <td>...</td>\n      <td>10819911178_111095400409</td>\n      <td>[COMBO TIẾT KIỆM] Bộ sản phẩm chăm sóc ngăn rụ...</td>\n      <td>Health &amp; Beauty</td>\n      <td>Hair care</td>\n      <td>10.0</td>\n      <td>19.5</td>\n      <td>28.0</td>\n      <td>15</td>\n      <td>20</td>\n      <td>26</td>\n    </tr>\n    <tr>\n      <th>66</th>\n      <td>OBVNN000210925002009</td>\n      <td>SA2</td>\n      <td>SA2</td>\n      <td>S2</td>\n      <td>0.0590</td>\n      <td>2550</td>\n      <td>0.0590</td>\n      <td>2550</td>\n      <td>0.0378</td>\n      <td>1600</td>\n      <td>...</td>\n      <td>6695144305_36535142611</td>\n      <td>[Mua 1 tặng 1] Tinh chất chống nắng Senka Perf...</td>\n      <td>Health &amp; Beauty</td>\n      <td>Skincare</td>\n      <td>3.0</td>\n      <td>15.0</td>\n      <td>20.0</td>\n      <td>8</td>\n      <td>10</td>\n      <td>20</td>\n    </tr>\n    <tr>\n      <th>69</th>\n      <td>OBVNN000210925002032</td>\n      <td>SA2</td>\n      <td>SA2</td>\n      <td>S2</td>\n      <td>0.0590</td>\n      <td>2550</td>\n      <td>0.0590</td>\n      <td>2550</td>\n      <td>0.0378</td>\n      <td>1600</td>\n      <td>...</td>\n      <td>11719914034_56535100981</td>\n      <td>Combo 3 Bàn chải đánh răng P/S Detox Trắng Răn...</td>\n      <td>Health &amp; Beauty</td>\n      <td>Oral care</td>\n      <td>4.0</td>\n      <td>7.0</td>\n      <td>21.0</td>\n      <td>8</td>\n      <td>10</td>\n      <td>20</td>\n    </tr>\n    <tr>\n      <th>94</th>\n      <td>OBVNN000210925002306</td>\n      <td>5L, 1L</td>\n      <td>S4</td>\n      <td>S7</td>\n      <td>0.1327</td>\n      <td>21587</td>\n      <td>0.1892</td>\n      <td>15000</td>\n      <td>0.1263</td>\n      <td>7800</td>\n      <td>...</td>\n      <td>10819911178_111095400409</td>\n      <td>[COMBO TIẾT KIỆM] Bộ sản phẩm chăm sóc ngăn rụ...</td>\n      <td>Health &amp; Beauty</td>\n      <td>Hair care</td>\n      <td>10.0</td>\n      <td>19.5</td>\n      <td>28.0</td>\n      <td>15</td>\n      <td>20</td>\n      <td>26</td>\n    </tr>\n    <tr>\n      <th>...</th>\n      <td>...</td>\n      <td>...</td>\n      <td>...</td>\n      <td>...</td>\n      <td>...</td>\n      <td>...</td>\n      <td>...</td>\n      <td>...</td>\n      <td>...</td>\n      <td>...</td>\n      <td>...</td>\n      <td>...</td>\n      <td>...</td>\n      <td>...</td>\n      <td>...</td>\n      <td>...</td>\n      <td>...</td>\n      <td>...</td>\n      <td>...</td>\n      <td>...</td>\n      <td>...</td>\n    </tr>\n    <tr>\n      <th>605618</th>\n      <td>OBVNW000211228014106</td>\n      <td>SA2</td>\n      <td>SA2</td>\n      <td>S3</td>\n      <td>0.0590</td>\n      <td>2550</td>\n      <td>0.0590</td>\n      <td>2550</td>\n      <td>0.0687</td>\n      <td>3750</td>\n      <td>...</td>\n      <td>10719911127_83610356338</td>\n      <td>Bộ đôi gội xả Phục hồi ngăn rụng tóc Premium R...</td>\n      <td>Health &amp; Beauty</td>\n      <td>Hair care</td>\n      <td>4.0</td>\n      <td>16.0</td>\n      <td>20.0</td>\n      <td>10</td>\n      <td>15</td>\n      <td>25</td>\n    </tr>\n    <tr>\n      <th>605624</th>\n      <td>OBVNW000211228014238</td>\n      <td>SA2</td>\n      <td>SA2</td>\n      <td>S3</td>\n      <td>0.0590</td>\n      <td>2550</td>\n      <td>0.0590</td>\n      <td>2550</td>\n      <td>0.0687</td>\n      <td>3750</td>\n      <td>...</td>\n      <td>10719911127_83610356338</td>\n      <td>Bộ đôi gội xả Phục hồi ngăn rụng tóc Premium R...</td>\n      <td>Health &amp; Beauty</td>\n      <td>Hair care</td>\n      <td>4.0</td>\n      <td>16.0</td>\n      <td>20.0</td>\n      <td>10</td>\n      <td>15</td>\n      <td>25</td>\n    </tr>\n    <tr>\n      <th>605625</th>\n      <td>OBVNW000211228014287</td>\n      <td>SA2</td>\n      <td>SA2</td>\n      <td>S3</td>\n      <td>0.0590</td>\n      <td>2550</td>\n      <td>0.0590</td>\n      <td>2550</td>\n      <td>0.0687</td>\n      <td>3750</td>\n      <td>...</td>\n      <td>10719911127_83610356338</td>\n      <td>Bộ đôi gội xả Phục hồi ngăn rụng tóc Premium R...</td>\n      <td>Health &amp; Beauty</td>\n      <td>Hair care</td>\n      <td>4.0</td>\n      <td>16.0</td>\n      <td>20.0</td>\n      <td>10</td>\n      <td>15</td>\n      <td>25</td>\n    </tr>\n    <tr>\n      <th>605649</th>\n      <td>OBVNW000211228015311</td>\n      <td>SA2</td>\n      <td>SA2</td>\n      <td>S3</td>\n      <td>0.0590</td>\n      <td>2550</td>\n      <td>0.0590</td>\n      <td>2550</td>\n      <td>0.0687</td>\n      <td>3750</td>\n      <td>...</td>\n      <td>10719911127_83610356338</td>\n      <td>Bộ đôi gội xả Phục hồi ngăn rụng tóc Premium R...</td>\n      <td>Health &amp; Beauty</td>\n      <td>Hair care</td>\n      <td>4.0</td>\n      <td>16.0</td>\n      <td>20.0</td>\n      <td>10</td>\n      <td>15</td>\n      <td>25</td>\n    </tr>\n    <tr>\n      <th>605651</th>\n      <td>OBVNW000211228015320</td>\n      <td>SA2</td>\n      <td>SA2</td>\n      <td>S3</td>\n      <td>0.0590</td>\n      <td>2550</td>\n      <td>0.0590</td>\n      <td>2550</td>\n      <td>0.0687</td>\n      <td>3750</td>\n      <td>...</td>\n      <td>10719911127_83610356338</td>\n      <td>Bộ đôi gội xả Phục hồi ngăn rụng tóc Premium R...</td>\n      <td>Health &amp; Beauty</td>\n      <td>Hair care</td>\n      <td>4.0</td>\n      <td>16.0</td>\n      <td>20.0</td>\n      <td>10</td>\n      <td>15</td>\n      <td>25</td>\n    </tr>\n  </tbody>\n</table>\n<p>54942 rows × 22 columns</p>\n</div>"
     },
     "execution_count": 31,
     "metadata": {},
     "output_type": "execute_result"
    }
   ],
   "source": [
    "csv"
   ],
   "metadata": {
    "collapsed": false,
    "pycharm": {
     "name": "#%%\n"
    }
   }
  },
  {
   "cell_type": "code",
   "execution_count": 32,
   "outputs": [
    {
     "data": {
      "text/plain": "                order_number box_cost box_vol  \\\n2425    OBVNN000210927000415      SA2     SA2   \n2792    OBVNN000210927001987      SA2     SA2   \n2850    OBVNN000210927002253   5L, 1L      S5   \n3440    OBVNN000210928000287    TD-5L   TD-5L   \n7617    OBVNN000211001004999   5L, 1L      S5   \n...                      ...      ...     ...   \n599394  OBVNW000211227002210   5L, 1L      S5   \n600165  OBVNW000211227004738   5L, 1L      S4   \n602012  OBVNW000211227011198   5L, 1L      S5   \n602715  OBVNW000211227014195   5L, 1L      S5   \n604003  OBVNW000211228005159   5L, 1L      S5   \n\n                              order_dim box_base  price_box_cost  \\\n2425               [5.04, 10.92, 13.86]       S2          0.0590   \n2792                [4.62, 10.5, 14.28]       S2          0.0590   \n2850                  [3.1, 26.0, 32.0]       S3          0.1327   \n3440    [7.000000000000001, 17.0, 32.5]       S4          0.1327   \n7617                  [3.1, 26.0, 32.0]       S7          0.1327   \n...                                 ...      ...             ...   \n599394  [7.000000000000001, 18.5, 32.0]    TD-5L          0.1327   \n600165                [9.0, 21.0, 30.0]    TD-5L          0.1327   \n602012               [10.0, 20.0, 32.0]    TD-5L          0.1327   \n602715  [7.000000000000001, 18.5, 32.0]    TD-4L          0.1327   \n604003               [10.0, 20.0, 32.0]    TD-5L          0.1327   \n\n        vol_box_cost  price_box_vol  vol_box_vol  price_box_base  \\\n2425            2550         0.0590         2550          0.0378   \n2792            2550         0.0590         2550          0.0378   \n2850           21587         0.2134        15000          0.0687   \n3440           13005         0.1327        13005          0.1892   \n7617           21587         0.2134        15000          0.1263   \n...              ...            ...          ...             ...   \n599394         21587         0.2134        15000          0.1327   \n600165         21587         0.1892        15000          0.1327   \n602012         21587         0.2134        15000          0.1327   \n602715         21587         0.2134        15000          0.1327   \n604003         21587         0.2134        15000          0.1327   \n\n        vol_box_base  box_base_dim  is_fit  num_item                mt_sku_id  \\\n2425            1600   [8, 10, 20]   False         1   9880616836_46534907755   \n2792            1600   [8, 10, 20]   False         1  3995203353_101095410068   \n2850            3750  [10, 15, 25]   False         1   9880598865_46534908449   \n3440           15000  [20, 25, 30]   False         1   9580620324_83610687147   \n7617            7800  [15, 20, 26]   False         1   9880598865_46534908449   \n...              ...           ...     ...       ...                      ...   \n599394         13005  [17, 17, 45]   False         1   9580620324_83610687146   \n600165         13005  [17, 17, 45]   False         1   9580620284_56535109181   \n602012         13005  [17, 17, 45]   False         1   3995204218_66535110248   \n602715          8960  [16, 16, 35]   False         1   9580620324_83610687146   \n604003         13005  [17, 17, 45]   False         1   3995204218_66535110248   \n\n                                                 sku_name  main_cate sub_cate  \n2425    Ariel Matic nước giặt Túi 3.5KG/3.2KG:Đậm Đặc ...  Home care  Laundry  \n2792    Nước xả vải Downy Hương Nước Hoa túi 3.5L (mới...  Home care  Laundry  \n2850    Nước giặt Ariel Cửa Trước 3.6 KG/3.25 KG/3.05K...  Home care  Laundry  \n3440    Nước giặt gốc thực vật Seventh Generation 2L (...  Home care  Laundry  \n7617    Nước giặt Ariel Cửa Trước 3.6 KG/3.25 KG/3.05K...  Home care  Laundry  \n...                                                   ...        ...      ...  \n599394  Nước giặt gốc thực vật Seventh Generation 2L (...  Home care  Laundry  \n600165  Nước Giặt Surf Trắng Sạch Ngát Hương Chai 3.6 ...  Home care  Laundry  \n602012  Nước Xả Vải Em Bé Comfort Cho Da Nhạy Cảm Với ...  Home care  Laundry  \n602715  Nước giặt gốc thực vật Seventh Generation 2L (...  Home care  Laundry  \n604003  Nước Xả Vải Em Bé Comfort Cho Da Nhạy Cảm Với ...  Home care  Laundry  \n\n[697 rows x 18 columns]",
      "text/html": "<div>\n<style scoped>\n    .dataframe tbody tr th:only-of-type {\n        vertical-align: middle;\n    }\n\n    .dataframe tbody tr th {\n        vertical-align: top;\n    }\n\n    .dataframe thead th {\n        text-align: right;\n    }\n</style>\n<table border=\"1\" class=\"dataframe\">\n  <thead>\n    <tr style=\"text-align: right;\">\n      <th></th>\n      <th>order_number</th>\n      <th>box_cost</th>\n      <th>box_vol</th>\n      <th>order_dim</th>\n      <th>box_base</th>\n      <th>price_box_cost</th>\n      <th>vol_box_cost</th>\n      <th>price_box_vol</th>\n      <th>vol_box_vol</th>\n      <th>price_box_base</th>\n      <th>vol_box_base</th>\n      <th>box_base_dim</th>\n      <th>is_fit</th>\n      <th>num_item</th>\n      <th>mt_sku_id</th>\n      <th>sku_name</th>\n      <th>main_cate</th>\n      <th>sub_cate</th>\n    </tr>\n  </thead>\n  <tbody>\n    <tr>\n      <th>2425</th>\n      <td>OBVNN000210927000415</td>\n      <td>SA2</td>\n      <td>SA2</td>\n      <td>[5.04, 10.92, 13.86]</td>\n      <td>S2</td>\n      <td>0.0590</td>\n      <td>2550</td>\n      <td>0.0590</td>\n      <td>2550</td>\n      <td>0.0378</td>\n      <td>1600</td>\n      <td>[8, 10, 20]</td>\n      <td>False</td>\n      <td>1</td>\n      <td>9880616836_46534907755</td>\n      <td>Ariel Matic nước giặt Túi 3.5KG/3.2KG:Đậm Đặc ...</td>\n      <td>Home care</td>\n      <td>Laundry</td>\n    </tr>\n    <tr>\n      <th>2792</th>\n      <td>OBVNN000210927001987</td>\n      <td>SA2</td>\n      <td>SA2</td>\n      <td>[4.62, 10.5, 14.28]</td>\n      <td>S2</td>\n      <td>0.0590</td>\n      <td>2550</td>\n      <td>0.0590</td>\n      <td>2550</td>\n      <td>0.0378</td>\n      <td>1600</td>\n      <td>[8, 10, 20]</td>\n      <td>False</td>\n      <td>1</td>\n      <td>3995203353_101095410068</td>\n      <td>Nước xả vải Downy Hương Nước Hoa túi 3.5L (mới...</td>\n      <td>Home care</td>\n      <td>Laundry</td>\n    </tr>\n    <tr>\n      <th>2850</th>\n      <td>OBVNN000210927002253</td>\n      <td>5L, 1L</td>\n      <td>S5</td>\n      <td>[3.1, 26.0, 32.0]</td>\n      <td>S3</td>\n      <td>0.1327</td>\n      <td>21587</td>\n      <td>0.2134</td>\n      <td>15000</td>\n      <td>0.0687</td>\n      <td>3750</td>\n      <td>[10, 15, 25]</td>\n      <td>False</td>\n      <td>1</td>\n      <td>9880598865_46534908449</td>\n      <td>Nước giặt Ariel Cửa Trước 3.6 KG/3.25 KG/3.05K...</td>\n      <td>Home care</td>\n      <td>Laundry</td>\n    </tr>\n    <tr>\n      <th>3440</th>\n      <td>OBVNN000210928000287</td>\n      <td>TD-5L</td>\n      <td>TD-5L</td>\n      <td>[7.000000000000001, 17.0, 32.5]</td>\n      <td>S4</td>\n      <td>0.1327</td>\n      <td>13005</td>\n      <td>0.1327</td>\n      <td>13005</td>\n      <td>0.1892</td>\n      <td>15000</td>\n      <td>[20, 25, 30]</td>\n      <td>False</td>\n      <td>1</td>\n      <td>9580620324_83610687147</td>\n      <td>Nước giặt gốc thực vật Seventh Generation 2L (...</td>\n      <td>Home care</td>\n      <td>Laundry</td>\n    </tr>\n    <tr>\n      <th>7617</th>\n      <td>OBVNN000211001004999</td>\n      <td>5L, 1L</td>\n      <td>S5</td>\n      <td>[3.1, 26.0, 32.0]</td>\n      <td>S7</td>\n      <td>0.1327</td>\n      <td>21587</td>\n      <td>0.2134</td>\n      <td>15000</td>\n      <td>0.1263</td>\n      <td>7800</td>\n      <td>[15, 20, 26]</td>\n      <td>False</td>\n      <td>1</td>\n      <td>9880598865_46534908449</td>\n      <td>Nước giặt Ariel Cửa Trước 3.6 KG/3.25 KG/3.05K...</td>\n      <td>Home care</td>\n      <td>Laundry</td>\n    </tr>\n    <tr>\n      <th>...</th>\n      <td>...</td>\n      <td>...</td>\n      <td>...</td>\n      <td>...</td>\n      <td>...</td>\n      <td>...</td>\n      <td>...</td>\n      <td>...</td>\n      <td>...</td>\n      <td>...</td>\n      <td>...</td>\n      <td>...</td>\n      <td>...</td>\n      <td>...</td>\n      <td>...</td>\n      <td>...</td>\n      <td>...</td>\n      <td>...</td>\n    </tr>\n    <tr>\n      <th>599394</th>\n      <td>OBVNW000211227002210</td>\n      <td>5L, 1L</td>\n      <td>S5</td>\n      <td>[7.000000000000001, 18.5, 32.0]</td>\n      <td>TD-5L</td>\n      <td>0.1327</td>\n      <td>21587</td>\n      <td>0.2134</td>\n      <td>15000</td>\n      <td>0.1327</td>\n      <td>13005</td>\n      <td>[17, 17, 45]</td>\n      <td>False</td>\n      <td>1</td>\n      <td>9580620324_83610687146</td>\n      <td>Nước giặt gốc thực vật Seventh Generation 2L (...</td>\n      <td>Home care</td>\n      <td>Laundry</td>\n    </tr>\n    <tr>\n      <th>600165</th>\n      <td>OBVNW000211227004738</td>\n      <td>5L, 1L</td>\n      <td>S4</td>\n      <td>[9.0, 21.0, 30.0]</td>\n      <td>TD-5L</td>\n      <td>0.1327</td>\n      <td>21587</td>\n      <td>0.1892</td>\n      <td>15000</td>\n      <td>0.1327</td>\n      <td>13005</td>\n      <td>[17, 17, 45]</td>\n      <td>False</td>\n      <td>1</td>\n      <td>9580620284_56535109181</td>\n      <td>Nước Giặt Surf Trắng Sạch Ngát Hương Chai 3.6 ...</td>\n      <td>Home care</td>\n      <td>Laundry</td>\n    </tr>\n    <tr>\n      <th>602012</th>\n      <td>OBVNW000211227011198</td>\n      <td>5L, 1L</td>\n      <td>S5</td>\n      <td>[10.0, 20.0, 32.0]</td>\n      <td>TD-5L</td>\n      <td>0.1327</td>\n      <td>21587</td>\n      <td>0.2134</td>\n      <td>15000</td>\n      <td>0.1327</td>\n      <td>13005</td>\n      <td>[17, 17, 45]</td>\n      <td>False</td>\n      <td>1</td>\n      <td>3995204218_66535110248</td>\n      <td>Nước Xả Vải Em Bé Comfort Cho Da Nhạy Cảm Với ...</td>\n      <td>Home care</td>\n      <td>Laundry</td>\n    </tr>\n    <tr>\n      <th>602715</th>\n      <td>OBVNW000211227014195</td>\n      <td>5L, 1L</td>\n      <td>S5</td>\n      <td>[7.000000000000001, 18.5, 32.0]</td>\n      <td>TD-4L</td>\n      <td>0.1327</td>\n      <td>21587</td>\n      <td>0.2134</td>\n      <td>15000</td>\n      <td>0.1327</td>\n      <td>8960</td>\n      <td>[16, 16, 35]</td>\n      <td>False</td>\n      <td>1</td>\n      <td>9580620324_83610687146</td>\n      <td>Nước giặt gốc thực vật Seventh Generation 2L (...</td>\n      <td>Home care</td>\n      <td>Laundry</td>\n    </tr>\n    <tr>\n      <th>604003</th>\n      <td>OBVNW000211228005159</td>\n      <td>5L, 1L</td>\n      <td>S5</td>\n      <td>[10.0, 20.0, 32.0]</td>\n      <td>TD-5L</td>\n      <td>0.1327</td>\n      <td>21587</td>\n      <td>0.2134</td>\n      <td>15000</td>\n      <td>0.1327</td>\n      <td>13005</td>\n      <td>[17, 17, 45]</td>\n      <td>False</td>\n      <td>1</td>\n      <td>3995204218_66535110248</td>\n      <td>Nước Xả Vải Em Bé Comfort Cho Da Nhạy Cảm Với ...</td>\n      <td>Home care</td>\n      <td>Laundry</td>\n    </tr>\n  </tbody>\n</table>\n<p>697 rows × 18 columns</p>\n</div>"
     },
     "execution_count": 32,
     "metadata": {},
     "output_type": "execute_result"
    }
   ],
   "source": [
    "final_single.query('is_fit == False & sub_cate == \"Laundry\"')"
   ],
   "metadata": {
    "collapsed": false,
    "pycharm": {
     "name": "#%%\n"
    }
   }
  },
  {
   "cell_type": "code",
   "execution_count": 34,
   "outputs": [
    {
     "name": "stdout",
     "output_type": "stream",
     "text": [
      "Successfully clean sheet: 1RXVHMSA9oaVWMWXCDfa5GcZMbP9USvkwMPMRwzizb8E at raw_single!A1:E\n",
      "Status: Sheet updating..\n",
      "Updated Google Sheet value at: raw_single!A1:E\n"
     ]
    }
   ],
   "source": [
    "# report\n",
    "from core_pro.ultilities import update_df\n",
    "\n",
    "report = pd.DataFrame()\n",
    "for i in ['cost', 'vol', 'base']:\n",
    "    dict_ = {'order_number': 'nunique', f'price_box_{i}': 'sum', f'vol_box_{i}': 'sum'}\n",
    "    rpt = final_single.groupby(f'box_{i}').agg(dict_).reset_index()\n",
    "    rpt.columns = ['box_name', 'total_order', 'total_price', 'total_vol']\n",
    "    rpt['model'] = i\n",
    "    report = report.append(rpt)\n",
    "\n",
    "# export\n",
    "sh = '1RXVHMSA9oaVWMWXCDfa5GcZMbP9USvkwMPMRwzizb8E'\n",
    "update_df(report, 'raw_single', sh)"
   ],
   "metadata": {
    "collapsed": false,
    "pycharm": {
     "name": "#%%\n"
    }
   }
  },
  {
   "cell_type": "code",
   "execution_count": 35,
   "outputs": [
    {
     "data": {
      "text/plain": "   box_name  total_order  total_price  total_vol model\n0    5L, 1L        19470    2583.6690  420298890  cost\n1        S0       141471    4272.4242   72150210  cost\n2       S10         7250    3677.9250  533600000  cost\n3        S2       227911    8615.0358  364657600  cost\n4        S3        46739    3210.9693  175271250  cost\n5        S5         1758     375.1572   26370000  cost\n6        S6         4113    1060.3314  123390000  cost\n7        S7        45702    5772.1626  356475600  cost\n8        S9          257      90.7210    6939000  cost\n9       SA2        90144    5318.4960  229867200  cost\n10    TD-1L         6503     525.4424   20159300  cost\n11    TD-4L        10822    1436.0794   96965120  cost\n12    TD-5L         1910     253.4570   24839550  cost\n0    5L, 1L         1146     152.0742   24738702   vol\n1        S0       141471    4272.4242   72150210   vol\n2       S10         7250    3677.9250  533600000   vol\n3       S13         1335     273.2745   23362500   vol\n4        S2       227911    8615.0358  364657600   vol\n5        S3        27795    1909.5165  104231250   vol\n6        S4        13919    2633.4748  208785000   vol\n7        S5         3801     811.1334   57015000   vol\n8        S6         3574     921.3772  107220000   vol\n9        S7        45702    5772.1626  356475600   vol\n10       S9          796     280.9880   21492000   vol\n11      SA2        90144    5318.4960  229867200   vol\n12    TD-1L        25447    2056.1176   78885700   vol\n13    TD-4L        10822    1436.0794   96965120   vol\n14    TD-5L         1260     167.2020   16386300   vol\n15      TS1         1677     243.6681   16770000   vol\n0    5L, 1L         5722     759.3094  123520814  base\n1        S0        56260    1699.0520   28692600  base\n2       S10         6509    3302.0157  479062400  base\n3       S13         8121    1662.3687  142117500  base\n4        S2       192711    7284.4758  308337600  base\n5        S3       171382   11773.9434  642682500  base\n6        S4        25648    4852.6016  384720000  base\n7        S5         1742     371.7428   26130000  base\n8        S6         9218    2376.4004  276540000  base\n9        S7        81881   10341.5703  638671800  base\n10       S9         3285    1159.6050   88695000  base\n11      SA2         7034     415.0060   17936700  base\n12    TD-1L         7549     609.9592   23401900  base\n13    TD-4L        15114    2005.6278  135421440  base\n14    TD-5L         5379     713.7933   69953895  base\n15      TS1         8099    1176.7847   80990000  base",
      "text/html": "<div>\n<style scoped>\n    .dataframe tbody tr th:only-of-type {\n        vertical-align: middle;\n    }\n\n    .dataframe tbody tr th {\n        vertical-align: top;\n    }\n\n    .dataframe thead th {\n        text-align: right;\n    }\n</style>\n<table border=\"1\" class=\"dataframe\">\n  <thead>\n    <tr style=\"text-align: right;\">\n      <th></th>\n      <th>box_name</th>\n      <th>total_order</th>\n      <th>total_price</th>\n      <th>total_vol</th>\n      <th>model</th>\n    </tr>\n  </thead>\n  <tbody>\n    <tr>\n      <th>0</th>\n      <td>5L, 1L</td>\n      <td>19470</td>\n      <td>2583.6690</td>\n      <td>420298890</td>\n      <td>cost</td>\n    </tr>\n    <tr>\n      <th>1</th>\n      <td>S0</td>\n      <td>141471</td>\n      <td>4272.4242</td>\n      <td>72150210</td>\n      <td>cost</td>\n    </tr>\n    <tr>\n      <th>2</th>\n      <td>S10</td>\n      <td>7250</td>\n      <td>3677.9250</td>\n      <td>533600000</td>\n      <td>cost</td>\n    </tr>\n    <tr>\n      <th>3</th>\n      <td>S2</td>\n      <td>227911</td>\n      <td>8615.0358</td>\n      <td>364657600</td>\n      <td>cost</td>\n    </tr>\n    <tr>\n      <th>4</th>\n      <td>S3</td>\n      <td>46739</td>\n      <td>3210.9693</td>\n      <td>175271250</td>\n      <td>cost</td>\n    </tr>\n    <tr>\n      <th>5</th>\n      <td>S5</td>\n      <td>1758</td>\n      <td>375.1572</td>\n      <td>26370000</td>\n      <td>cost</td>\n    </tr>\n    <tr>\n      <th>6</th>\n      <td>S6</td>\n      <td>4113</td>\n      <td>1060.3314</td>\n      <td>123390000</td>\n      <td>cost</td>\n    </tr>\n    <tr>\n      <th>7</th>\n      <td>S7</td>\n      <td>45702</td>\n      <td>5772.1626</td>\n      <td>356475600</td>\n      <td>cost</td>\n    </tr>\n    <tr>\n      <th>8</th>\n      <td>S9</td>\n      <td>257</td>\n      <td>90.7210</td>\n      <td>6939000</td>\n      <td>cost</td>\n    </tr>\n    <tr>\n      <th>9</th>\n      <td>SA2</td>\n      <td>90144</td>\n      <td>5318.4960</td>\n      <td>229867200</td>\n      <td>cost</td>\n    </tr>\n    <tr>\n      <th>10</th>\n      <td>TD-1L</td>\n      <td>6503</td>\n      <td>525.4424</td>\n      <td>20159300</td>\n      <td>cost</td>\n    </tr>\n    <tr>\n      <th>11</th>\n      <td>TD-4L</td>\n      <td>10822</td>\n      <td>1436.0794</td>\n      <td>96965120</td>\n      <td>cost</td>\n    </tr>\n    <tr>\n      <th>12</th>\n      <td>TD-5L</td>\n      <td>1910</td>\n      <td>253.4570</td>\n      <td>24839550</td>\n      <td>cost</td>\n    </tr>\n    <tr>\n      <th>0</th>\n      <td>5L, 1L</td>\n      <td>1146</td>\n      <td>152.0742</td>\n      <td>24738702</td>\n      <td>vol</td>\n    </tr>\n    <tr>\n      <th>1</th>\n      <td>S0</td>\n      <td>141471</td>\n      <td>4272.4242</td>\n      <td>72150210</td>\n      <td>vol</td>\n    </tr>\n    <tr>\n      <th>2</th>\n      <td>S10</td>\n      <td>7250</td>\n      <td>3677.9250</td>\n      <td>533600000</td>\n      <td>vol</td>\n    </tr>\n    <tr>\n      <th>3</th>\n      <td>S13</td>\n      <td>1335</td>\n      <td>273.2745</td>\n      <td>23362500</td>\n      <td>vol</td>\n    </tr>\n    <tr>\n      <th>4</th>\n      <td>S2</td>\n      <td>227911</td>\n      <td>8615.0358</td>\n      <td>364657600</td>\n      <td>vol</td>\n    </tr>\n    <tr>\n      <th>5</th>\n      <td>S3</td>\n      <td>27795</td>\n      <td>1909.5165</td>\n      <td>104231250</td>\n      <td>vol</td>\n    </tr>\n    <tr>\n      <th>6</th>\n      <td>S4</td>\n      <td>13919</td>\n      <td>2633.4748</td>\n      <td>208785000</td>\n      <td>vol</td>\n    </tr>\n    <tr>\n      <th>7</th>\n      <td>S5</td>\n      <td>3801</td>\n      <td>811.1334</td>\n      <td>57015000</td>\n      <td>vol</td>\n    </tr>\n    <tr>\n      <th>8</th>\n      <td>S6</td>\n      <td>3574</td>\n      <td>921.3772</td>\n      <td>107220000</td>\n      <td>vol</td>\n    </tr>\n    <tr>\n      <th>9</th>\n      <td>S7</td>\n      <td>45702</td>\n      <td>5772.1626</td>\n      <td>356475600</td>\n      <td>vol</td>\n    </tr>\n    <tr>\n      <th>10</th>\n      <td>S9</td>\n      <td>796</td>\n      <td>280.9880</td>\n      <td>21492000</td>\n      <td>vol</td>\n    </tr>\n    <tr>\n      <th>11</th>\n      <td>SA2</td>\n      <td>90144</td>\n      <td>5318.4960</td>\n      <td>229867200</td>\n      <td>vol</td>\n    </tr>\n    <tr>\n      <th>12</th>\n      <td>TD-1L</td>\n      <td>25447</td>\n      <td>2056.1176</td>\n      <td>78885700</td>\n      <td>vol</td>\n    </tr>\n    <tr>\n      <th>13</th>\n      <td>TD-4L</td>\n      <td>10822</td>\n      <td>1436.0794</td>\n      <td>96965120</td>\n      <td>vol</td>\n    </tr>\n    <tr>\n      <th>14</th>\n      <td>TD-5L</td>\n      <td>1260</td>\n      <td>167.2020</td>\n      <td>16386300</td>\n      <td>vol</td>\n    </tr>\n    <tr>\n      <th>15</th>\n      <td>TS1</td>\n      <td>1677</td>\n      <td>243.6681</td>\n      <td>16770000</td>\n      <td>vol</td>\n    </tr>\n    <tr>\n      <th>0</th>\n      <td>5L, 1L</td>\n      <td>5722</td>\n      <td>759.3094</td>\n      <td>123520814</td>\n      <td>base</td>\n    </tr>\n    <tr>\n      <th>1</th>\n      <td>S0</td>\n      <td>56260</td>\n      <td>1699.0520</td>\n      <td>28692600</td>\n      <td>base</td>\n    </tr>\n    <tr>\n      <th>2</th>\n      <td>S10</td>\n      <td>6509</td>\n      <td>3302.0157</td>\n      <td>479062400</td>\n      <td>base</td>\n    </tr>\n    <tr>\n      <th>3</th>\n      <td>S13</td>\n      <td>8121</td>\n      <td>1662.3687</td>\n      <td>142117500</td>\n      <td>base</td>\n    </tr>\n    <tr>\n      <th>4</th>\n      <td>S2</td>\n      <td>192711</td>\n      <td>7284.4758</td>\n      <td>308337600</td>\n      <td>base</td>\n    </tr>\n    <tr>\n      <th>5</th>\n      <td>S3</td>\n      <td>171382</td>\n      <td>11773.9434</td>\n      <td>642682500</td>\n      <td>base</td>\n    </tr>\n    <tr>\n      <th>6</th>\n      <td>S4</td>\n      <td>25648</td>\n      <td>4852.6016</td>\n      <td>384720000</td>\n      <td>base</td>\n    </tr>\n    <tr>\n      <th>7</th>\n      <td>S5</td>\n      <td>1742</td>\n      <td>371.7428</td>\n      <td>26130000</td>\n      <td>base</td>\n    </tr>\n    <tr>\n      <th>8</th>\n      <td>S6</td>\n      <td>9218</td>\n      <td>2376.4004</td>\n      <td>276540000</td>\n      <td>base</td>\n    </tr>\n    <tr>\n      <th>9</th>\n      <td>S7</td>\n      <td>81881</td>\n      <td>10341.5703</td>\n      <td>638671800</td>\n      <td>base</td>\n    </tr>\n    <tr>\n      <th>10</th>\n      <td>S9</td>\n      <td>3285</td>\n      <td>1159.6050</td>\n      <td>88695000</td>\n      <td>base</td>\n    </tr>\n    <tr>\n      <th>11</th>\n      <td>SA2</td>\n      <td>7034</td>\n      <td>415.0060</td>\n      <td>17936700</td>\n      <td>base</td>\n    </tr>\n    <tr>\n      <th>12</th>\n      <td>TD-1L</td>\n      <td>7549</td>\n      <td>609.9592</td>\n      <td>23401900</td>\n      <td>base</td>\n    </tr>\n    <tr>\n      <th>13</th>\n      <td>TD-4L</td>\n      <td>15114</td>\n      <td>2005.6278</td>\n      <td>135421440</td>\n      <td>base</td>\n    </tr>\n    <tr>\n      <th>14</th>\n      <td>TD-5L</td>\n      <td>5379</td>\n      <td>713.7933</td>\n      <td>69953895</td>\n      <td>base</td>\n    </tr>\n    <tr>\n      <th>15</th>\n      <td>TS1</td>\n      <td>8099</td>\n      <td>1176.7847</td>\n      <td>80990000</td>\n      <td>base</td>\n    </tr>\n  </tbody>\n</table>\n</div>"
     },
     "execution_count": 35,
     "metadata": {},
     "output_type": "execute_result"
    }
   ],
   "source": [
    "report"
   ],
   "metadata": {
    "collapsed": false,
    "pycharm": {
     "name": "#%%\n"
    }
   }
  },
  {
   "cell_type": "code",
   "execution_count": null,
   "outputs": [],
   "source": [],
   "metadata": {
    "collapsed": false,
    "pycharm": {
     "name": "#%%\n"
    }
   }
  }
 ],
 "metadata": {
  "kernelspec": {
   "display_name": "Python 3",
   "language": "python",
   "name": "python3"
  },
  "language_info": {
   "codemirror_mode": {
    "name": "ipython",
    "version": 3
   },
   "file_extension": ".py",
   "mimetype": "text/x-python",
   "name": "python",
   "nbconvert_exporter": "python",
   "pygments_lexer": "ipython3",
   "version": "3.9.7"
  }
 },
 "nbformat": 4,
 "nbformat_minor": 5
}